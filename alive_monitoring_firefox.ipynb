{
 "cells": [
  {
   "cell_type": "code",
   "execution_count": null,
   "metadata": {
    "lc_cell_meme": {
     "current": "d80cd720-7683-11eb-87b7-0242ac120002-2-31ac-1f27",
     "history": [
      {
       "current": "d80cd720-7683-11eb-87b7-0242ac120002-1-31ac",
       "next": "d80cd82e-7683-11eb-87b7-0242ac120002",
       "previous": null
      },
      {
       "current": "d80cd720-7683-11eb-87b7-0242ac120002-2-31ac-1f27",
       "next": "d80cd82e-7683-11eb-87b7-0242ac120002-1-e5c2",
       "previous": null
      }
     ],
     "next": "d80cd82e-7683-11eb-87b7-0242ac120002-2-e5c2-a4ec",
     "previous": null
    },
    "lc_wrapper": {
     "log_history": [
      "/home/jovyan/.log/20210224/20210224-093519-0801.log",
      "/home/jovyan/.log/20211010/20211010-181521-0328.log",
      "/home/jovyan/.log/20211015/20211015-184541-0708.log",
      "/home/jovyan/.log/20211018/20211018-102033-0206.log",
      "/home/jovyan/.log/20211018/20211018-131809-0968.log",
      "/home/jovyan/.log/20211027/20211027-113535-0504.log",
      "/home/jovyan/.log/20211027/20211027-115600-0020.log",
      "/home/jovyan/.log/20211027/20211027-115620-0501.log",
      "/home/jovyan/.log/20211112/20211112-101543-0931.log",
      "/home/jovyan/.log/20211112/20211112-114452-0244.log",
      "/home/jovyan/.log/20211112/20211112-174449-0378.log",
      "/home/jovyan/.log/20211112/20211112-175401-0146.log",
      "/home/jovyan/.log/20211112/20211112-175635-0316.log"
     ]
    }
   },
   "outputs": [],
   "source": [
    "import http.client,datetime,os,requests, time\n",
    "import traceback\n",
    "from selenium import webdriver\n",
    "from selenium.webdriver.support.ui import WebDriverWait\n",
    "from selenium.webdriver.common.by import By\n",
    "from selenium.common.exceptions import TimeoutException\n",
    "from selenium.webdriver.support import expected_conditions\n",
    "from selenium.webdriver import FirefoxOptions"
   ]
  },
  {
   "cell_type": "code",
   "execution_count": null,
   "metadata": {
    "lc_cell_meme": {
     "current": "d80cd82e-7683-11eb-87b7-0242ac120002-2-e5c2-a4ec",
     "history": [
      {
       "current": "d80cd82e-7683-11eb-87b7-0242ac120002-1-e5c2",
       "next": "d80cd90a-7683-11eb-87b7-0242ac120002",
       "previous": "d80cd720-7683-11eb-87b7-0242ac120002"
      },
      {
       "current": "d80cd82e-7683-11eb-87b7-0242ac120002-2-e5c2-a4ec",
       "next": "d80cd90a-7683-11eb-87b7-0242ac120002-1-ca6e",
       "previous": "d80cd720-7683-11eb-87b7-0242ac120002-1-31ac"
      }
     ],
     "next": "d80cd90a-7683-11eb-87b7-0242ac120002-2-ca6e-28fe",
     "previous": "d80cd720-7683-11eb-87b7-0242ac120002-2-31ac-1f27"
    },
    "lc_wrapper": {
     "log_history": [
      "/home/jovyan/.log/20210224/20210224-093521-0105.log",
      "/home/jovyan/.log/20210417/20210417-165557-0891.log",
      "/home/jovyan/.log/20211010/20211010-181522-0911.log",
      "/home/jovyan/.log/20211015/20211015-184542-0602.log",
      "/home/jovyan/.log/20211018/20211018-102033-0922.log",
      "/home/jovyan/.log/20211027/20211027-113537-0239.log",
      "/home/jovyan/.log/20211027/20211027-115625-0007.log",
      "/home/jovyan/.log/20211112/20211112-101545-0118.log",
      "/home/jovyan/.log/20211112/20211112-114452-0578.log",
      "/home/jovyan/.log/20211112/20211112-174450-0557.log",
      "/home/jovyan/.log/20211112/20211112-175635-0829.log"
     ]
    }
   },
   "outputs": [],
   "source": [
    "target = {\n",
    "    \"https\": False,\n",
    "    \"host\": \"jupyter.cs.rcos.nii.ac.jp\",\n",
    "    \"keyword\": \"JupyterHub\",\n",
    "    \"port\": 80,\n",
    "    \"path\": \"hub/home\",\n",
    "    \"allowed_statuses\": [200, 301, 308]\n",
    "}\n",
    "\n",
    "slack_url = os.environ.get('SLACK_API_URL', None)\n",
    "key_event_delay = 3\n",
    "response_timeout = 20\n",
    "idp_username = os.environ.get('OPENIDP_USERNAME', None)\n",
    "idp_password = os.environ.get('OPENIDP_PASSWORD', None)"
   ]
  },
  {
   "cell_type": "code",
   "execution_count": null,
   "metadata": {
    "lc_cell_meme": {
     "current": "d80cd90a-7683-11eb-87b7-0242ac120002-2-ca6e-28fe",
     "history": [
      {
       "current": "d80cd90a-7683-11eb-87b7-0242ac120002-1-ca6e",
       "next": "d80cd9e6-7683-11eb-87b7-0242ac120002",
       "previous": "d80cd82e-7683-11eb-87b7-0242ac120002"
      },
      {
       "current": "d80cd90a-7683-11eb-87b7-0242ac120002-2-ca6e-28fe",
       "next": "d80cd9e6-7683-11eb-87b7-0242ac120002-1-c849",
       "previous": "d80cd82e-7683-11eb-87b7-0242ac120002-1-e5c2"
      }
     ],
     "next": "d80cd9e6-7683-11eb-87b7-0242ac120002-2-c849-09da",
     "previous": "d80cd82e-7683-11eb-87b7-0242ac120002-2-e5c2-a4ec"
    },
    "lc_wrapper": {
     "log_history": [
      "/home/jovyan/.log/20210224/20210224-093524-0146.log",
      "/home/jovyan/.log/20211010/20211010-181524-0908.log",
      "/home/jovyan/.log/20211015/20211015-184543-0112.log",
      "/home/jovyan/.log/20211018/20211018-102034-0683.log",
      "/home/jovyan/.log/20211027/20211027-113538-0004.log",
      "/home/jovyan/.log/20211027/20211027-115625-0267.log",
      "/home/jovyan/.log/20211112/20211112-101545-0758.log",
      "/home/jovyan/.log/20211112/20211112-114452-0923.log",
      "/home/jovyan/.log/20211112/20211112-174451-0343.log",
      "/home/jovyan/.log/20211112/20211112-175636-0204.log"
     ]
    }
   },
   "outputs": [],
   "source": [
    "def check_liveness(host, path, keyword, port=80, https=False, allowed_statuses=[200]): # keyword is just a placeholder\n",
    "    print(host)\n",
    "    conn = None\n",
    "    result = \"\"\n",
    "    liveness = True\n",
    "    try:\n",
    "        if https:\n",
    "            conn = http.client.HTTPSConnection(host, port=port)\n",
    "        else:\n",
    "            conn = http.client.HTTPConnection(host, port=port)\n",
    "        conn.request( \"GET\", \"/\" + path )\n",
    "        response = conn.getresponse()\n",
    "    except:\n",
    "        error_detected = True\n",
    "        return (f\"{host}:{port}/{path} : failed to connect\", False)\n",
    "    if response.status not in allowed_statuses:\n",
    "        liveness = False\n",
    "    result = f\"{host}/{path} {response.status} : {response.reason}\"\n",
    "    if conn != None:\n",
    "        conn.close()\n",
    "    return (result, liveness)"
   ]
  },
  {
   "cell_type": "code",
   "execution_count": null,
   "metadata": {
    "lc_cell_meme": {
     "current": "d80cd9e6-7683-11eb-87b7-0242ac120002-2-c849-09da",
     "history": [
      {
       "current": "d80cd9e6-7683-11eb-87b7-0242ac120002-1-c849",
       "next": "d80cdaae-7683-11eb-87b7-0242ac120002",
       "previous": "d80cd90a-7683-11eb-87b7-0242ac120002"
      },
      {
       "current": "d80cd9e6-7683-11eb-87b7-0242ac120002-2-c849-09da",
       "next": "d80cdaae-7683-11eb-87b7-0242ac120002-1-8f6c",
       "previous": "d80cd90a-7683-11eb-87b7-0242ac120002-1-ca6e"
      }
     ],
     "next": "d80cdaae-7683-11eb-87b7-0242ac120002-2-8f6c-d1ed",
     "previous": "d80cd90a-7683-11eb-87b7-0242ac120002-2-ca6e-28fe"
    },
    "lc_wrapper": {
     "log_history": [
      "/home/jovyan/.log/20210224/20210224-093524-0760.log",
      "/home/jovyan/.log/20211010/20211010-181527-0158.log",
      "/home/jovyan/.log/20211015/20211015-184543-0542.log",
      "/home/jovyan/.log/20211018/20211018-102035-0484.log",
      "/home/jovyan/.log/20211027/20211027-113539-0259.log",
      "/home/jovyan/.log/20211027/20211027-115625-0515.log",
      "/home/jovyan/.log/20211112/20211112-101546-0309.log",
      "/home/jovyan/.log/20211112/20211112-114453-0228.log",
      "/home/jovyan/.log/20211112/20211112-174451-0524.log",
      "/home/jovyan/.log/20211112/20211112-175636-0581.log"
     ]
    }
   },
   "outputs": [],
   "source": [
    "def wait_load(driver, element_id, timeout):\n",
    "    try:\n",
    "        return WebDriverWait(driver, timeout).until(expected_conditions.presence_of_element_located((By.CSS_SELECTOR, element_id)))\n",
    "    except TimeoutException:\n",
    "        raise Exception(f\"Timeout occured after waiting {element_id} for {timeout} seconds.\")"
   ]
  },
  {
   "cell_type": "code",
   "execution_count": null,
   "metadata": {
    "lc_cell_meme": {
     "current": "d80cdaae-7683-11eb-87b7-0242ac120002-2-8f6c-d1ed",
     "history": [
      {
       "current": "d80cdaae-7683-11eb-87b7-0242ac120002-1-8f6c",
       "next": "d80cdb80-7683-11eb-87b7-0242ac120002",
       "previous": "d80cd9e6-7683-11eb-87b7-0242ac120002"
      },
      {
       "current": "d80cdaae-7683-11eb-87b7-0242ac120002-2-8f6c-d1ed",
       "next": "d80cdb80-7683-11eb-87b7-0242ac120002-1-1b8c",
       "previous": "d80cd9e6-7683-11eb-87b7-0242ac120002-1-c849"
      }
     ],
     "next": "d80cdb80-7683-11eb-87b7-0242ac120002-2-1b8c-e1e1",
     "previous": "d80cd9e6-7683-11eb-87b7-0242ac120002-2-c849-09da"
    },
    "lc_wrapper": {
     "log_history": [
      "/home/jovyan/.log/20210224/20210224-093525-0174.log",
      "/home/jovyan/.log/20211010/20211010-181528-0174.log",
      "/home/jovyan/.log/20211010/20211010-181837-0939.log",
      "/home/jovyan/.log/20211015/20211015-184544-0520.log",
      "/home/jovyan/.log/20211018/20211018-102036-0172.log",
      "/home/jovyan/.log/20211027/20211027-113540-0506.log",
      "/home/jovyan/.log/20211027/20211027-115625-0763.log",
      "/home/jovyan/.log/20211112/20211112-101547-0060.log",
      "/home/jovyan/.log/20211112/20211112-114453-0577.log",
      "/home/jovyan/.log/20211112/20211112-174451-0915.log",
      "/home/jovyan/.log/20211112/20211112-175622-0763.log",
      "/home/jovyan/.log/20211112/20211112-175636-0893.log"
     ]
    }
   },
   "outputs": [],
   "source": [
    "def check_by_selenium(host, path, keyword, port=80, https=False, allowed_statuses=[]): # allowed_statuses is just a placeholder\n",
    "    alive = False\n",
    "    driver = None\n",
    "    options = webdriver.FirefoxOptions()\n",
    "    options.add_argument('-headless')\n",
    "    for _ in range(5): # Retry up to 5 times  \n",
    "        try:\n",
    "            driver = webdriver.Firefox(options=options)\n",
    "            driver.delete_all_cookies()\n",
    "            location = f\"{host}:{port}/{path}\"\n",
    "            result = \"\"\n",
    "            if https:\n",
    "                driver.get(\"https://\" + location)\n",
    "            else:\n",
    "                driver.get(\"http://\" + location)\n",
    "            # login\n",
    "            print(\"Start login\")\n",
    "            wait_load(driver, \"#keytext\", response_timeout).send_keys(\"OpenIdP\")\n",
    "            time.sleep(key_event_delay)\n",
    "            print(\"Submit\")\n",
    "            driver.find_element_by_css_selector(\"input[type='submit']\").click()\n",
    "            wait_load(driver, \"input[name='j_username']\", response_timeout).send_keys(idp_username)\n",
    "            time.sleep(key_event_delay)\n",
    "            driver.find_element_by_css_selector(\"input[name='j_password']\").send_keys(idp_password)\n",
    "            print(\"password\")\n",
    "            time.sleep(key_event_delay)\n",
    "            driver.find_element_by_css_selector(\"button[type='submit']\").click()\n",
    "            print(\"Submit\")\n",
    "\n",
    "\n",
    "            # This part is necessary only on the first login \n",
    "            try:\n",
    "                wait_load(driver, \"input[type='submit'][name='_eventId_proceed']\", response_timeout).click()\n",
    "            except:\n",
    "                pass\n",
    "\n",
    "            time.sleep(response_timeout) # long delay to get page title\n",
    "            if not keyword in driver.title:\n",
    "                result = f\"{host}:{port}/{path} : {keyword} is not included in page title! ({driver.title})\"\n",
    "            alive = True\n",
    "        except Exception as e:\n",
    "            result = f\"An exception occured on {host}:{port}/{path} : {e}\"\n",
    "            print(f\"An exception occured on {host}:{port}/{path} : {e}\")\n",
    "            print(traceback.format_exc())\n",
    "        else:\n",
    "            break\n",
    "        finally:\n",
    "            if driver is not None:\n",
    "                driver.quit()\n",
    "    return result, alive"
   ]
  },
  {
   "cell_type": "code",
   "execution_count": null,
   "metadata": {
    "lc_cell_meme": {
     "current": "d80cdb80-7683-11eb-87b7-0242ac120002-2-1b8c-e1e1",
     "history": [
      {
       "current": "d80cdb80-7683-11eb-87b7-0242ac120002-1-1b8c",
       "next": "d80cdc48-7683-11eb-87b7-0242ac120002",
       "previous": "d80cdaae-7683-11eb-87b7-0242ac120002"
      },
      {
       "current": "d80cdb80-7683-11eb-87b7-0242ac120002-1-1b8c",
       "next": "d80cdc48-7683-11eb-87b7-0242ac120002-1-f683",
       "previous": "d80cdaae-7683-11eb-87b7-0242ac120002-1-8f6c"
      },
      {
       "current": "d80cdb80-7683-11eb-87b7-0242ac120002-2-1b8c-e1e1",
       "next": "9c82e2ac-2fca-11ec-a0ef-0242ac130002",
       "previous": "d80cdaae-7683-11eb-87b7-0242ac120002-1-8f6c"
      },
      {
       "current": "d80cdb80-7683-11eb-87b7-0242ac120002-2-1b8c-e1e1",
       "next": "9c82e2ac-2fca-11ec-a0ef-0242ac130002-1-261c",
       "previous": "d80cdaae-7683-11eb-87b7-0242ac120002-2-8f6c-d1ed"
      },
      {
       "current": "d80cdb80-7683-11eb-87b7-0242ac120002-2-1b8c-e1e1",
       "next": "dcc61940-4395-11ec-8415-0242ac130002",
       "previous": "d80cdaae-7683-11eb-87b7-0242ac120002-2-8f6c-d1ed"
      }
     ],
     "next": "450b9426-4396-11ec-bf08-0242ac130002",
     "previous": "d80cdaae-7683-11eb-87b7-0242ac120002-2-8f6c-d1ed"
    },
    "lc_wrapper": {
     "log_history": [
      "/home/jovyan/.log/20210224/20210224-093526-0046.log",
      "/home/jovyan/.log/20211010/20211010-181529-0967.log",
      "/home/jovyan/.log/20211010/20211010-181839-0078.log",
      "/home/jovyan/.log/20211018/20211018-102036-0759.log",
      "/home/jovyan/.log/20211027/20211027-113541-0740.log",
      "/home/jovyan/.log/20211027/20211027-115626-0511.log",
      "/home/jovyan/.log/20211112/20211112-102207-0540.log",
      "/home/jovyan/.log/20211112/20211112-114650-0642.log",
      "/home/jovyan/.log/20211112/20211112-174453-0187.log",
      "/home/jovyan/.log/20211112/20211112-174712-0548.log",
      "/home/jovyan/.log/20211112/20211112-175627-0214.log",
      "/home/jovyan/.log/20211112/20211112-175637-0361.log"
     ]
    }
   },
   "outputs": [],
   "source": [
    "(message, alive) = check_liveness(**target)\n",
    "if alive:\n",
    "    (message, alive) = check_by_selenium(**target)\n",
    "\n",
    "if alive:\n",
    "    print(\"JupyterHub is alive!\")\n",
    "else:\n",
    "    now = datetime.datetime.now()\n",
    "    message = str(now) + \"\\n\" + message\n",
    "    data = {'text': message}\n",
    "    #x = requests.post(slack_url, json=data)\n",
    "    print(\"JupyterHub is dead...\")"
   ]
  },
  {
   "cell_type": "code",
   "execution_count": null,
   "metadata": {
    "lc_cell_meme": {
     "current": "450b9426-4396-11ec-bf08-0242ac130002",
     "history": [
      {
       "current": "450b9426-4396-11ec-bf08-0242ac130002",
       "next": null,
       "previous": "4dd37958-4395-11ec-8415-0242ac130002"
      }
     ],
     "next": null,
     "previous": "d80cdb80-7683-11eb-87b7-0242ac120002-2-1b8c-e1e1"
    }
   },
   "outputs": [],
   "source": []
  }
 ],
 "metadata": {
  "kernelspec": {
   "display_name": "Python 3",
   "language": "python",
   "name": "python3"
  },
  "language_info": {
   "file_extension": ".py",
   "mimetype": "text/x-python",
   "name": "python",
   "nbconvert_exporter": "python",
   "pygments_lexer": "ipython3",
   "version": "3.8.6"
  },
  "lc_notebook_meme": {
   "current": "d80ccffa-7683-11eb-87b7-0242ac120002",
   "lc_server_signature": {
    "current": {
     "notebook_dir": "/home/jovyan",
     "notebook_path": "/",
     "server_url": "http://watchtower.cs.rcos.nii.ac.jp/",
     "signature_id": "e46a341a-764a-11eb-996c-0242ac120002"
    },
    "history": [
     {
      "notebook_dir": "/home/jovyan",
      "notebook_path": "/",
      "server_url": "http://localhost:9098/",
      "signature_id": "e46a341a-764a-11eb-996c-0242ac120002"
     },
     {
      "notebook_dir": "/home/jovyan",
      "notebook_path": "/",
      "server_url": "http://35.213.23.14/",
      "signature_id": "e46a341a-764a-11eb-996c-0242ac120002"
     }
    ]
   }
  },
  "toc": {
   "base_numbering": 1,
   "nav_menu": {},
   "number_sections": true,
   "sideBar": true,
   "skip_h1_title": false,
   "title_cell": "Table of Contents",
   "title_sidebar": "Contents",
   "toc_cell": false,
   "toc_position": {},
   "toc_section_display": true,
   "toc_window_display": false
  }
 },
 "nbformat": 4,
 "nbformat_minor": 4
}
