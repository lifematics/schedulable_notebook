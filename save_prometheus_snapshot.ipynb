{
 "cells": [
  {
   "cell_type": "code",
   "execution_count": null,
   "metadata": {},
   "outputs": [],
   "source": [
    "import tempfile, shutil, os"
   ]
  },
  {
   "cell_type": "code",
   "execution_count": null,
   "metadata": {},
   "outputs": [],
   "source": [
    "snapshot_path = os.environ.get('PROMETHEUS_SNAPSHOT_PATH', None)\n",
    "bucket_name = os.environ.get('GCS_BUCKET', None)\n",
    "prom_host = os.environ.get('PROMETHEUS_HOST', 'localhost')\n",
    "prom_port = int(os.environ.get('PROMETHEUS_PORT', 9090))\n",
    "slack_url = os.environ.get('SLACK_API_URL', None)\n",
    "prom_namespace =  os.environ.get('PROMETHEUS_NAMESPACE', None)\n",
    "prom_container =  os.environ.get('PROMETHEUS_CONTAINER', None)\n",
    "prom_pod =  os.environ.get('PROMETHEUS_POD', None)"
   ]
  },
  {
   "cell_type": "code",
   "execution_count": null,
   "metadata": {},
   "outputs": [],
   "source": [
    "import http.client,datetime,os,requests, json"
   ]
  },
  {
   "cell_type": "code",
   "execution_count": null,
   "metadata": {},
   "outputs": [],
   "source": [
    "def create_snapshot(https, host, port):\n",
    "    conn = None\n",
    "    try:\n",
    "        if https:\n",
    "            conn = http.client.HTTPSConnection(host, port=port)\n",
    "        else:\n",
    "            conn = http.client.HTTPConnection(host, port=port)\n",
    "        conn.request( \"POST\", \"/api/v1/admin/tsdb/snapshot\")\n",
    "        response = conn.getresponse()\n",
    "    except Exception as e:\n",
    "        print(e)\n",
    "        return None\n",
    "    if response.status != 200:\n",
    "        msg = f\"Request failed on snapshot creation! Status code: {response.status}({ response.reason})  {response.read()}\"\n",
    "        print(msg)\n",
    "        return (False, msg)\n",
    "    result = json.load(response)\n",
    "    if conn != None:\n",
    "        conn.close()\n",
    "    return (True, result['data']['name'])"
   ]
  },
  {
   "cell_type": "code",
   "execution_count": null,
   "metadata": {},
   "outputs": [],
   "source": [
    "(success, snapshot_name) = create_snapshot(False, prom_host, prom_port)\n",
    "\n",
    "if success:\n",
    "    tempdir = tempfile.mkdtemp()\n",
    "    try:\n",
    "        !kubectl cp -n {prom_namespace} -c {prom_container} {prom_pod}:{snapshot_path}/{snapshot_name} {tempdir}/{snapshot_name}\n",
    "        !kubectl exec -n {prom_namespace} -c {prom_container} {prom_pod} -- rm -rf {snapshot_path}/{snapshot_name}\n",
    "        !gsutil -m cp -r {tempdir}/{snapshot_name} gs://{bucket_name}/{snapshot_name}\n",
    "    finally:\n",
    "        shutil.rmtree(tempdir)\n",
    "else:\n",
    "    now = datetime.datetime.now()\n",
    "    message = str(now) + \"\\n\" + snapshot_name\n",
    "    data = {'text': message}\n",
    "    requests.post(slack_url, json=data)"
   ]
  }
 ],
 "metadata": {
  "kernelspec": {
   "display_name": "Python 3",
   "language": "python",
   "name": "python3"
  },
  "language_info": {
   "codemirror_mode": {
    "name": "ipython",
    "version": 3
   },
   "file_extension": ".py",
   "mimetype": "text/x-python",
   "name": "python",
   "nbconvert_exporter": "python",
   "pygments_lexer": "ipython3",
   "version": "3.7.4"
  }
 },
 "nbformat": 4,
 "nbformat_minor": 4
}
