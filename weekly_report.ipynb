{
 "cells": [
  {
   "cell_type": "code",
   "execution_count": null,
   "metadata": {},
   "outputs": [],
   "source": [
    "import prometheus_api_client as pac\n",
    "import matplotlib.pyplot as plt\n",
    "import numpy as np\n",
    "import tempfile, shutil, os\n",
    "from ipynb.fs.full.metric_list import target_metric_list\n",
    "from datetime import datetime, timezone, timedelta\n",
    "from dateutil import tz\n",
    "from matplotlib.dates import DayLocator, HourLocator, DateFormatter, drange\n",
    "from numpy import arange\n",
    "from matplotlib.ticker import FormatStrFormatter\n",
    "from ipynb.fs.full.report import create_report, post_to_slack"
   ]
  },
  {
   "cell_type": "code",
   "execution_count": null,
   "metadata": {},
   "outputs": [],
   "source": [
    "today = datetime.now().date()\n",
    "offset = today.weekday() % 7  \n",
    "monday = today - timedelta(days=offset) \n",
    "start = datetime(monday.year, monday.month, monday.day - 7)\n",
    "end = datetime(monday.year, monday.month, monday.day)"
   ]
  },
  {
   "cell_type": "code",
   "execution_count": null,
   "metadata": {},
   "outputs": [],
   "source": [
    "interval =  f'{start.strftime(\"%Y/%m/%d\")}-{end.strftime(\"%Y/%m/%d\")}'\n",
    "\n",
    "create_report(target_metric_list, \n",
    "              f'Weekly report {interval}',\n",
    "             start,\n",
    "             end,\n",
    "             step=3600, # 1 hour\n",
    "             tick_locator=DayLocator(),\n",
    "             tick_label_formatter=DateFormatter('%m/%d %a'),\n",
    ")\n",
    "\n",
    "tempdir = tempfile.mkdtemp()\n",
    "image_path = os.path.join(tempdir, f'weekly_report.png')\n",
    "plt.savefig(image_path)\n",
    "post_to_slack(image_path, f\"Weekly report during {interval} is created!\")\n",
    "shutil.rmtree(tempdir)"
   ]
  }
 ],
 "metadata": {
  "kernelspec": {
   "display_name": "Python 3",
   "language": "python",
   "name": "python3"
  },
  "language_info": {
   "codemirror_mode": {
    "name": "ipython",
    "version": 3
   },
   "file_extension": ".py",
   "mimetype": "text/x-python",
   "name": "python",
   "nbconvert_exporter": "python",
   "pygments_lexer": "ipython3",
   "version": "3.7.4"
  }
 },
 "nbformat": 4,
 "nbformat_minor": 4
}
