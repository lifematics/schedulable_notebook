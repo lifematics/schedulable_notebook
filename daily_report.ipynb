{
 "cells": [
  {
   "cell_type": "code",
   "execution_count": null,
   "metadata": {},
   "outputs": [],
   "source": [
    "import prometheus_api_client as pac\n",
    "import matplotlib.pyplot as plt\n",
    "import numpy as np\n",
    "from datetime import datetime\n",
    "from datetime import timezone\n",
    "from dateutil import tz\n",
    "from matplotlib.dates import DayLocator, HourLocator, DateFormatter, drange\n",
    "from numpy import arange\n",
    "from matplotlib.ticker import FormatStrFormatter\n",
    "from ipynb.fs.full.report import create_report\n",
    "from ipynb.fs.full.metric_list import target_metric_list"
   ]
  },
  {
   "cell_type": "code",
   "execution_count": null,
   "metadata": {},
   "outputs": [],
   "source": [
    "today = datetime.utcnow().date()\n",
    "start = datetime(today.year, today.month, today.day - 1)\n",
    "end = datetime(today.year, today.month, today.day)"
   ]
  },
  {
   "cell_type": "code",
   "execution_count": null,
   "metadata": {},
   "outputs": [],
   "source": [
    "create_report(target_metric_list, \n",
    "              f'Daily report {start.strftime(\"%Y/%m/%d\")}',\n",
    "             start,\n",
    "             end,\n",
    "             step=300, # 5 minutes\n",
    "             tick_locator=HourLocator(arange(0, 25, 6)),\n",
    "             tick_label_formatter=DateFormatter('%H-%M'),\n",
    ")"
   ]
  },
  {
   "cell_type": "code",
   "execution_count": null,
   "metadata": {},
   "outputs": [],
   "source": []
  }
 ],
 "metadata": {
  "kernelspec": {
   "display_name": "Python 3",
   "language": "python",
   "name": "python3"
  },
  "language_info": {
   "codemirror_mode": {
    "name": "ipython",
    "version": 3
   },
   "file_extension": ".py",
   "mimetype": "text/x-python",
   "name": "python",
   "nbconvert_exporter": "python",
   "pygments_lexer": "ipython3",
   "version": "3.7.4"
  }
 },
 "nbformat": 4,
 "nbformat_minor": 4
}
