{
 "cells": [
  {
   "cell_type": "code",
   "execution_count": null,
   "metadata": {},
   "outputs": [],
   "source": [
    "import tempfile, shutil, os"
   ]
  },
  {
   "cell_type": "code",
   "execution_count": null,
   "metadata": {},
   "outputs": [],
   "source": [
    "slack_url = os.environ.get('SLACK_API_URL', None)\n",
    "namespace =  'rcos'\n",
    "pod_lines =  !kubectl get pod -l app=binder -l name=binder -o jsonpath=\"{.items[0].metadata.name}\"\n",
    "pod = pod_lines[0]\n",
    "log_dir = '~/.jenkins/binder-logs' # 必ず永続化されているディレクトリを設定するようにする\n",
    "(slack_url, namespace, pod, log_dir)"
   ]
  },
  {
   "cell_type": "code",
   "execution_count": null,
   "metadata": {},
   "outputs": [],
   "source": [
    "from dateutil import tz\n",
    "from datetime import datetime, timedelta,timezone"
   ]
  },
  {
   "cell_type": "code",
   "execution_count": null,
   "metadata": {},
   "outputs": [],
   "source": [
    "!mkdir -p {log_dir}"
   ]
  },
  {
   "cell_type": "code",
   "execution_count": null,
   "metadata": {},
   "outputs": [],
   "source": [
    "# ログディレクトリの中で、最も最新の日付のログを収集のスタートとする\n",
    "#（kubectl logsのは開始時刻が指定できるが、終了時刻が指定できない）\n",
    "import os\n",
    "import dateutil.parser\n",
    "logs = !ls {log_dir}\n",
    "max_d = datetime.min\n",
    "max_d = max_d.replace(tzinfo=tz.UTC)\n",
    "for log in logs:\n",
    "    name_without_ext = os.path.splitext(os.path.basename(log))[0]\n",
    "    try:\n",
    "        d = dateutil.parser.isoparse(name_without_ext)\n",
    "        d = d.replace(tzinfo=tz.UTC)\n",
    "        print(d)\n",
    "        if max_d < d:\n",
    "            max_d = d\n",
    "    except Exception as e:\n",
    "        print(e)\n",
    "    \n",
    "if max_d != datetime.min:\n",
    "    start_timestamp = max_d.isoformat()\n",
    "else:\n",
    "    start_timestamp = None\n",
    "start_timestamp"
   ]
  },
  {
   "cell_type": "code",
   "execution_count": null,
   "metadata": {},
   "outputs": [],
   "source": [
    "now = datetime.now(tz.UTC).isoformat()\n",
    "if start_timestamp:\n",
    "    !kubectl logs {pod} -n {namespace} --since-time={start_timestamp} > {log_dir}/{now}.log\n",
    "else :\n",
    "    !kubectl logs {pod} -n {namespace} > {log_dir}/{now}.log\n",
    "#     requests.post(slack_url, json=data)"
   ]
  },
  {
   "cell_type": "code",
   "execution_count": null,
   "metadata": {},
   "outputs": [],
   "source": []
  }
 ],
 "metadata": {
  "kernelspec": {
   "display_name": "Python 3",
   "language": "python",
   "name": "python3"
  },
  "language_info": {
   "file_extension": ".py",
   "mimetype": "text/x-python",
   "name": "python",
   "nbconvert_exporter": "python",
   "pygments_lexer": "ipython3"
  },
  "lc_notebook_meme": {
   "current": "bfbeabf2-b3af-11ec-806a-f6494b29d642",
   "lc_server_signature": {
    "current": {
     "notebook_dir": "/home/jovyan",
     "notebook_path": "/",
     "server_url": "https://jupyter.cs.rcos.nii.ac.jp/services/schedulable-notebook/",
     "signature_id": "d50f5e12-c9ac-11ec-94aa-c6bc47c7b6e5"
    },
    "history": [
     {
      "notebook_dir": "/home/jovyan",
      "notebook_path": "/",
      "server_url": "https://jupyter.cs.rcos.nii.ac.jp/services/schedulable-notebook/",
      "signature_id": "4013dd2a-b169-11ec-806a-f6494b29d642"
     }
    ]
   }
  },
  "papermill": {
   "default_parameters": {},
   "duration": 1.778181,
   "end_time": "2022-04-30T19:36:02.892516",
   "environment_variables": {},
   "exception": null,
   "input_path": "save_daily_binder_logs.ipynb",
   "output_path": "/home/jovyan/.jenkins/jobs/save_daily_binder_log/workspace/1.ipynb",
   "parameters": {},
   "start_time": "2022-04-30T19:36:01.114335",
   "version": "2.2.0"
  },
  "toc": {
   "base_numbering": 1,
   "nav_menu": {},
   "number_sections": true,
   "sideBar": true,
   "skip_h1_title": false,
   "title_cell": "Table of Contents",
   "title_sidebar": "Contents",
   "toc_cell": false,
   "toc_position": {},
   "toc_section_display": true,
   "toc_window_display": false
  }
 },
 "nbformat": 4,
 "nbformat_minor": 4
}
