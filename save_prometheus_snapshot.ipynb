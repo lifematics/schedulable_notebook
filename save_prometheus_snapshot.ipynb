{
 "cells": [
  {
   "cell_type": "code",
   "execution_count": null,
   "metadata": {},
   "outputs": [],
   "source": [
    "import tempfile, shutil, os"
   ]
  },
  {
   "cell_type": "code",
   "execution_count": null,
   "metadata": {},
   "outputs": [],
   "source": [
    "if os.environ.get('GOOGLE_APPLICATION_CREDENTIALS', None):\n",
    "    !gcloud auth activate-service-account --key-file $GOOGLE_APPLICATION_CREDENTIALS"
   ]
  },
  {
   "cell_type": "code",
   "execution_count": null,
   "metadata": {},
   "outputs": [],
   "source": [
    "snapshot_path = os.environ.get('PROMETHEUS_SNAPSHOT_PATH', '/data/snapshots')\n",
    "bucket_name = os.environ.get('GCS_BUCKET', None)\n",
    "prom_host = os.environ.get('PROMETHEUS_HOST', 'localhost')\n",
    "prom_port = int(os.environ.get('PROMETHEUS_PORT', 9090))\n",
    "slack_url = os.environ.get('SLACK_API_URL', None)\n",
    "prom_namespace =  os.environ.get('PROMETHEUS_NAMESPACE', 'default')\n",
    "prom_container =  os.environ.get('PROMETHEUS_CONTAINER', ' prometheus-server')\n",
    "\n",
    "if bucket_name is None:\n",
    "    raise Exception(\"GCS_BUCKET must be specified!\")\n",
    "    \n",
    "if slack_url is None:\n",
    "    raise Exception(\"SLACK_API_URL must be specified!\")"
   ]
  },
  {
   "cell_type": "code",
   "execution_count": null,
   "metadata": {},
   "outputs": [],
   "source": [
    "import http.client,datetime,os,requests, json"
   ]
  },
  {
   "cell_type": "code",
   "execution_count": null,
   "metadata": {},
   "outputs": [],
   "source": [
    "def create_snapshot(https, host, port):\n",
    "    conn = None\n",
    "    try:\n",
    "        if https:\n",
    "            conn = http.client.HTTPSConnection(host, port=port)\n",
    "        else:\n",
    "            conn = http.client.HTTPConnection(host, port=port)\n",
    "        conn.request( \"POST\", \"/api/v1/admin/tsdb/snapshot\")\n",
    "        response = conn.getresponse()\n",
    "    except Exception as e:\n",
    "        print(e)\n",
    "        return (False, str(e))\n",
    "    if response.status != 200:\n",
    "        msg = f\"Request failed on snapshot creation! Status code: {response.status}({ response.reason})  {response.read()}\"\n",
    "        print(msg)\n",
    "        return (False, msg)\n",
    "    result = json.load(response)\n",
    "    if conn != None:\n",
    "        conn.close()\n",
    "    return (True, result['data']['name'])"
   ]
  },
  {
   "cell_type": "code",
   "execution_count": null,
   "metadata": {},
   "outputs": [],
   "source": [
    "(success, snapshot_name) = create_snapshot(False, prom_host, prom_port)\n",
    "\n",
    "if success:\n",
    "    tempdir = tempfile.mkdtemp()\n",
    "    try:\n",
    "        pods =  !kubectl get pod -l app=prometheus,component=server -o custom-columns=:metadata.name\n",
    "        prom_pod = pods[1]\n",
    "        if snapshot_path == '' or snapshot_name == '':\n",
    "            raise Exception(f'snapshot_path and snapshot_name cannot be empty! (snapshot_name: {snapshot_name}, snapshot_path: {snapshot_path})')\n",
    "        !kubectl cp -n {prom_namespace} -c {prom_container} {prom_pod}:{snapshot_path}/{snapshot_name} {tempdir}/{snapshot_name}\n",
    "        !gsutil -m cp -r {tempdir}/{snapshot_name} gs://{bucket_name}/{snapshot_name}\n",
    "    finally:\n",
    "        if snapshot_path != '' and snapshot_name != '': \n",
    "          !kubectl exec -n {prom_namespace} -c {prom_container} {prom_pod} -- rm -rf {snapshot_path}/{snapshot_name}\n",
    "        shutil.rmtree(tempdir)\n",
    "else:\n",
    "    now = datetime.datetime.now()\n",
    "    message = str(now) + \"\\n\" + snapshot_name\n",
    "    data = {'text': message}\n",
    "    requests.post(slack_url, json=data)"
   ]
  },
  {
   "cell_type": "code",
   "execution_count": null,
   "metadata": {},
   "outputs": [],
   "source": []
  }
 ],
 "metadata": {
  "kernelspec": {
   "display_name": "Python 3",
   "language": "python",
   "name": "python3"
  },
  "language_info": {
   "file_extension": ".py",
   "mimetype": "text/x-python",
   "name": "python",
   "nbconvert_exporter": "python",
   "pygments_lexer": "ipython3"
  },
  "lc_notebook_meme": {
   "current": "7ce37234-50ba-11ec-97d9-feaadef46e8f",
   "lc_server_signature": {
    "current": {
     "notebook_dir": "/home/jovyan",
     "notebook_path": "/",
     "server_url": "http://localhost:8000/services/schedulable-notebook/",
     "signature_id": "73371c7a-3578-11ec-97d9-feaadef46e8f"
    },
    "history": []
   }
  },
  "toc": {
   "base_numbering": 1,
   "nav_menu": {},
   "number_sections": true,
   "sideBar": true,
   "skip_h1_title": false,
   "title_cell": "Table of Contents",
   "title_sidebar": "Contents",
   "toc_cell": false,
   "toc_position": {},
   "toc_section_display": true,
   "toc_window_display": false
  }
 },
 "nbformat": 4,
 "nbformat_minor": 4
}
