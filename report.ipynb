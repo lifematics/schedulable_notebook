{
 "cells": [
  {
   "cell_type": "code",
   "execution_count": null,
   "metadata": {},
   "outputs": [],
   "source": [
    "import prometheus_api_client as pac\n",
    "import matplotlib.pyplot as plt\n",
    "import numpy as np\n",
    "from datetime import datetime, timezone, timedelta\n",
    "from dateutil import tz\n",
    "from matplotlib.dates import DayLocator, HourLocator, DateFormatter, drange\n",
    "from numpy import arange\n",
    "from matplotlib.ticker import FormatStrFormatter"
   ]
  },
  {
   "cell_type": "code",
   "execution_count": null,
   "metadata": {},
   "outputs": [],
   "source": [
    "prom = pac.PrometheusConnect(url=\"http://localhost:8069\", disable_ssl=True)"
   ]
  },
  {
   "cell_type": "code",
   "execution_count": null,
   "metadata": {},
   "outputs": [],
   "source": [
    "def create_report(target_metric_list, title, start, end, step, tick_locator, tick_label_formatter):\n",
    "    fig, axs = plt.subplots(len(target_metric_list), 1, figsize=(15, len(target_metric_list) * 10))\n",
    "    plt.suptitle(title)\n",
    "    plt.tight_layout(h_pad=5, rect=[0, 0, 1, 0.97]) \n",
    "    for i, target_metric in enumerate(target_metric_list):\n",
    "        metric_query = target_metric['query']\n",
    "        metric_data = prom.custom_query_range(\n",
    "            query=metric_query,\n",
    "            start_time=start,\n",
    "            end_time=end,\n",
    "            step=step\n",
    "        )\n",
    "        legends = []\n",
    "        ax = axs[i]\n",
    "        metric_data = sorted(metric_data, key=lambda d: sum(float(value[1]) for value in d['values']) / len(d['values']), reverse=True)\n",
    "        if 'max_num' in target_metric:\n",
    "            metric_data = metric_data[:target_metric['max_num']]\n",
    "        for metric_datum in metric_data:\n",
    "            label = ', '.join([f'{pair[0]}: {pair[1]}'  for pair in metric_datum['metric'].items() if pair[0] != '__name__'])\n",
    "            xdata = []\n",
    "            ydata = []\n",
    "            for point in metric_datum['values']:\n",
    "                xdata.append(datetime.fromtimestamp(point[0]))\n",
    "                ydata.append(float(point[1]) * target_metric['coefficient'])\n",
    "            ax.plot_date(np.array(xdata), np.array(ydata), '-')\n",
    "            ax.set_xlim(start, end)\n",
    "            if 'range' in target_metric:\n",
    "                ax.set_ylim(target_metric['range'][0], target_metric['range'][1])\n",
    "\n",
    "            ax.yaxis.set_major_formatter(FormatStrFormatter('%.2f ' + target_metric['unit']))\n",
    "            ax.xaxis.set_major_locator(tick_locator)\n",
    "            ax.xaxis.set_major_formatter(tick_label_formatter)\n",
    "            legends.append(label)\n",
    "        if(len(legends) > 1):\n",
    "            ax.legend(labels=legends)\n",
    "        if 'title' in target_metric:\n",
    "            ax.set_title(target_metric['title'])\n",
    "        else:\n",
    "            ax.set_title(metric_query)"
   ]
  }
 ],
 "metadata": {
  "kernelspec": {
   "display_name": "Python 3",
   "language": "python",
   "name": "python3"
  },
  "language_info": {
   "codemirror_mode": {
    "name": "ipython",
    "version": 3
   },
   "file_extension": ".py",
   "mimetype": "text/x-python",
   "name": "python",
   "nbconvert_exporter": "python",
   "pygments_lexer": "ipython3",
   "version": "3.7.4"
  }
 },
 "nbformat": 4,
 "nbformat_minor": 4
}
