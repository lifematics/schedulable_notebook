{
 "cells": [
  {
   "cell_type": "code",
   "execution_count": null,
   "metadata": {},
   "outputs": [],
   "source": [
    "import prometheus_api_client as pac\n",
    "import matplotlib.pyplot as plt\n",
    "import numpy as np\n",
    "from datetime import datetime, timezone, timedelta\n",
    "from dateutil import tz\n",
    "from matplotlib.dates import DayLocator, HourLocator, DateFormatter, drange\n",
    "from numpy import arange\n",
    "from matplotlib.ticker import FormatStrFormatter\n",
    "from ipynb.fs.full.report import create_report\n",
    "from ipynb.fs.full.metric_list import target_metric_list"
   ]
  },
  {
   "cell_type": "code",
   "execution_count": null,
   "metadata": {},
   "outputs": [],
   "source": [
    "today = datetime.utcnow().date() + timedelta(days=31)\n",
    "start = datetime(today.year, today.month - 1, 1) if today.month != 1 else datetime(today.year - 1, 12, 1) \n",
    "end = datetime(today.year, today.month, 1)"
   ]
  },
  {
   "cell_type": "code",
   "execution_count": null,
   "metadata": {},
   "outputs": [],
   "source": [
    "create_report(target_metric_list, \n",
    "              f'Monthly report {start.strftime(\"%Y/%m/%d\")}-{end.strftime(\"%Y/%m/%d\")}',\n",
    "             start,\n",
    "             end,\n",
    "             step=10800, # 3 hours\n",
    "             tick_locator=DayLocator(interval=2),\n",
    "             tick_label_formatter=DateFormatter('%m/%d %a'),\n",
    ")"
   ]
  },
  {
   "cell_type": "code",
   "execution_count": null,
   "metadata": {},
   "outputs": [],
   "source": []
  }
 ],
 "metadata": {
  "kernelspec": {
   "display_name": "Python 3",
   "language": "python",
   "name": "python3"
  },
  "language_info": {
   "codemirror_mode": {
    "name": "ipython",
    "version": 3
   },
   "file_extension": ".py",
   "mimetype": "text/x-python",
   "name": "python",
   "nbconvert_exporter": "python",
   "pygments_lexer": "ipython3",
   "version": "3.7.4"
  }
 },
 "nbformat": 4,
 "nbformat_minor": 4
}
