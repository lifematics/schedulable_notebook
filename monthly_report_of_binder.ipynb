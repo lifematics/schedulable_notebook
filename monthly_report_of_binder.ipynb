{
 "cells": [
  {
   "cell_type": "markdown",
   "id": "991e665a",
   "metadata": {},
   "source": [
    "# About\n",
    "https://redmine.devops.rcos.nii.ac.jp/issues/31135\n",
    "\n",
    "Binderの利用ログを集計して月次レポートを生成する。\n",
    "集計対象は以下の通り\n",
    "* Binderで構築に成功したPodに関する情報\n",
    " * 表: 1列目=構築元リポジトリURL、2列目=Pod数\n",
    " * 表: 1列目=ユーザーの所属機関（mailのドメイン名部分）、2列目=Pod数\n",
    " * 折れ線グラフ: 横軸=日付、縦軸=Pod数\n",
    " * 折れ線グラフ: 横軸=日付、縦軸=ユニークユーザー数\n",
    "* Binderで構築に失敗したPodに関する情報\n",
    " * 表: 1列目=構築元リポジトリURL、2列目=Pod数\n"
   ]
  },
  {
   "cell_type": "code",
   "execution_count": null,
   "id": "c04a1bb3",
   "metadata": {},
   "outputs": [],
   "source": [
    "import datetime"
   ]
  },
  {
   "cell_type": "code",
   "execution_count": null,
   "id": "19b22e82",
   "metadata": {},
   "outputs": [],
   "source": [
    "# ログの集計開始日時を31日前に指定\n",
    "START_DATE = (datetime.datetime.now() - datetime.timedelta(days=31))\n",
    "START_DATE = datetime.datetime.combine(START_DATE, datetime.time(0, 0, 0))\n",
    "\n",
    "START_DATE"
   ]
  },
  {
   "cell_type": "code",
   "execution_count": null,
   "id": "914b2dba",
   "metadata": {},
   "outputs": [],
   "source": [
    "# ログの集計の終了日時を前日の23:59に指定\n",
    "END_DATE = (datetime.datetime.now() - datetime.timedelta(days=1))\n",
    "END_DATE = datetime.datetime.combine(END_DATE, datetime.time(23, 59, 59))\n",
    "\n",
    "END_DATE"
   ]
  },
  {
   "cell_type": "code",
   "execution_count": null,
   "id": "555ab488",
   "metadata": {},
   "outputs": [],
   "source": [
    "# ログが保存されているディレクトリを指定\n",
    "TARGET_DIR = \"/home/jovyan/.jenkins/binder-logs/\"\n",
    "TARGET_DIR"
   ]
  },
  {
   "cell_type": "code",
   "execution_count": null,
   "id": "4e2123b4",
   "metadata": {},
   "outputs": [],
   "source": [
    "OUTPUT_DIR = \"/home/jovyan/.jenkins/binder-monthly-report/\""
   ]
  },
  {
   "cell_type": "code",
   "execution_count": null,
   "id": "c92df437",
   "metadata": {},
   "outputs": [],
   "source": [
    "# UTCからの時差を時間単位で指定\n",
    "TZ_OFFSET = 9"
   ]
  },
  {
   "cell_type": "code",
   "execution_count": null,
   "id": "3fb4941b",
   "metadata": {},
   "outputs": [],
   "source": [
    "!pip install weasyprint"
   ]
  },
  {
   "cell_type": "code",
   "execution_count": null,
   "id": "ee922f88",
   "metadata": {},
   "outputs": [],
   "source": [
    "import os\n",
    "import re\n",
    "import datetime\n",
    "import pandas as pd\n",
    "import matplotlib.pyplot as plt"
   ]
  },
  {
   "cell_type": "code",
   "execution_count": null,
   "id": "08981cde",
   "metadata": {},
   "outputs": [],
   "source": [
    "import tempfile\n",
    "work_dir = tempfile.mkdtemp()\n",
    "work_dir"
   ]
  },
  {
   "cell_type": "code",
   "execution_count": null,
   "id": "30f216c2",
   "metadata": {},
   "outputs": [],
   "source": [
    "# pdfレンダリングのため、html や　css の設定\n",
    "css = \"\"\"\n",
    "table, th, td {\n",
    "   border: 1px solid;\n",
    "   border-collapse: collapse;\n",
    "}\n",
    "th {\n",
    "   font-weight: normal;\n",
    "}\n",
    "th, td {\n",
    "   padding:8px;\n",
    "}\n",
    "\"\"\"\n",
    "\n",
    "template_html = f\"\"\"\n",
    "<!DOCTYPE html>\n",
    "<html lang=\"ja\">\n",
    "<head>\n",
    "    <meta charset=\"UTF-8\">\n",
    "    <meta http-equiv=\"X-UA-Compatible\" content=\"IE=edge\">\n",
    "    <meta name=\"viewport\" content=\"width=device-width, initial-scale=1.0\">\n",
    "    <style>\n",
    "        {css}\n",
    "    </style>\n",
    "    <title>月間利用状況レポート</title>\n",
    "</head>\n",
    "<body>\n",
    "    <div>\n",
    "        リポジトリ毎の成功pod数<br>\n",
    "        @success_repo_thtml\n",
    "    </div>\n",
    "    <br>\n",
    "    <div>\n",
    "        リポジトリ毎の失敗pod数<br>\n",
    "        @error_repo_thtml\n",
    "    </div>\n",
    "    <br>\n",
    "    <div>\n",
    "        ドメイン毎の成功pod数<br>\n",
    "        @domain_thtml\n",
    "    </div>\n",
    "    <img src=\"./pods_per_day.png\">\n",
    "    <img src=\"./users_per_day.png\">\n",
    "</body>\n",
    "</html>\"\"\""
   ]
  },
  {
   "cell_type": "markdown",
   "id": "2ba816ae",
   "metadata": {},
   "source": [
    "# ログファイルの読み込み"
   ]
  },
  {
   "cell_type": "code",
   "execution_count": null,
   "id": "292a3723",
   "metadata": {},
   "outputs": [],
   "source": [
    "log_files =  !ls -t {TARGET_DIR}\n",
    "print(log_files)\n",
    "log_lines = []\n",
    "for file in log_files:\n",
    "    if(file.endswith('log')):\n",
    "        log_lines += log_lines + open(os.path.join(TARGET_DIR, file), \"r\").readlines()\n",
    "log_lines"
   ]
  },
  {
   "cell_type": "markdown",
   "id": "520da552",
   "metadata": {},
   "source": [
    "# ログの構文解析を行って行単位の辞書に変換"
   ]
  },
  {
   "cell_type": "code",
   "execution_count": null,
   "id": "891bb8d5",
   "metadata": {},
   "outputs": [],
   "source": [
    "# ログの行ごとに、 ['log_level', 'date', 'time', 'log_id', 'datetime', 'message', 'url', 'mail_address', 'domain']を取得する\n",
    "timestamp_pattern = r'(?<=\\[).+?(?=\\])'\n",
    "mail_pattern =  r\"([a-zA-Z0-9_.+-]+@[a-zA-Z0-9-]+\\.[a-zA-Z0-9-.]+)\"\n",
    "domain_pattern = r\"(@[a-zA-Z0-9-]+\\.[a-zA-Z0-9-.]+)\"\n",
    "\n",
    "log_columns = ['log_level', 'date', 'time', 'log_id', 'datetime', 'message', 'url', 'mail_address', 'domain']\n",
    "dict_index_data = {}\n",
    "\n",
    "for i, line in enumerate(log_lines):\n",
    "    timestamp_match_result = re.findall(timestamp_pattern, line)  \n",
    "    if len(timestamp_match_result)==0 : continue\n",
    "\n",
    "    log_split = timestamp_match_result[0].split(\" \")\n",
    "    try:\n",
    "        log_dt = datetime.datetime.strptime(log_split[1]+log_split[2], \"%y%m%d%H:%M:%S\") + datetime.timedelta(hours=TZ_OFFSET)\n",
    "    except Exception as e:\n",
    "        continue \n",
    "    if log_dt < START_DATE or END_DATE < log_dt:\n",
    "        continue\n",
    "    log_message = line[line.find(\"]\")+1:]\n",
    "    log_split.append(log_dt)\n",
    "    log_split.append(log_message)\n",
    "\n",
    "    url = \"\"\n",
    "    # ログのメッセージ部分からリポジトリURLを抽出する\n",
    "    # ex) Launching pod for https://github.com/example/2022: 34 other pods running this repo (250 total)\n",
    "    if 'Launching pod for' in log_message: url = log_message.split(\" \")[4][:-1] # -1は最後に付加される「:」を除くため      \n",
    "    # ex) Launched https://github.com/sample/2022 in 14s\n",
    "    if 'Launched' in log_message: url = log_message.split(\" \")[2]\n",
    "    log_split.append(url)\n",
    "    \n",
    "    mail_address_match_result = re.findall(mail_pattern, log_message)\n",
    "    mail_address = \"\" if len(mail_address_match_result)==0 else mail_address_match_result[0]\n",
    "    log_split.append(mail_address)\n",
    "\n",
    "    domain_match_result = re.findall(domain_pattern, mail_address)\n",
    "    domain = \"\" if len(domain_match_result)==0 else domain_match_result[0]\n",
    "    log_split.append(domain)\n",
    "\n",
    "    dict_index_data[i+1] = {key:value for key, value in zip(log_columns, log_split)}"
   ]
  },
  {
   "cell_type": "markdown",
   "id": "d6ff5ba8",
   "metadata": {},
   "source": [
    "# 行ごとに該当ログの出現をチェック＆カウント"
   ]
  },
  {
   "cell_type": "code",
   "execution_count": null,
   "id": "22e8ce37",
   "metadata": {},
   "outputs": [],
   "source": [
    "builder_success = {'id':[], 'log_info':[]}\n",
    "builder_error = {'id':[], 'log_info':[]}\n",
    "launcher_success = {'id':[], 'log_info':[]}\n",
    "launcher_error = {'id':[], 'log_info':[]}\n",
    "\n",
    "for line_index, log_data in dict_index_data.items():\n",
    "    if 'Launching pod for' not in log_data['message'] and \\\n",
    "            'Starting server' not in log_data['message']:\n",
    "        continue\n",
    "\n",
    "    current_dt = log_data['datetime']\n",
    "    limit_dt = current_dt + datetime.timedelta(hours=2)\n",
    "\n",
    "    if 'Launching pod for' in log_data['message']:    \n",
    "        builder_log_list = list(filter(\n",
    "            lambda item: item[1]['datetime'] > current_dt and\n",
    "            item[1]['datetime'] < limit_dt and\n",
    "            'Launched' not in log_data['message']and\n",
    "            item[1]['url'] == log_data['url'] and\n",
    "            item[0] not in builder_success['id'],\n",
    "            dict_index_data.items()))\n",
    "        \n",
    "        if len(builder_log_list) == 0:\n",
    "            builder_error['id'].append(line_index)\n",
    "            builder_error['log_info'].append(log_data)\n",
    "        else:\n",
    "            builder_success['id'].append(builder_log_list[0][0])\n",
    "            builder_success['log_info'].append(log_data)\n",
    "\n",
    "\n",
    "    elif 'Starting server' in log_data['message']:\n",
    "        error_log_list = list(filter(\n",
    "            lambda item: item[1]['datetime'] > current_dt and\n",
    "            item[1]['datetime'] < limit_dt and\n",
    "            'Error starting server' in item[1]['message'] and\n",
    "            item[1]['domain'] == log_data['domain'] and\n",
    "            item[0] not in launcher_error['id'],\n",
    "            dict_index_data.items()))\n",
    "\n",
    "        if len(error_log_list) != 0:\n",
    "            launcher_error['id'].append(error_log_list[0][0])\n",
    "            launcher_error['log_info'].append(log_data)\n",
    "        else:\n",
    "            launcher_success['id'].append(line_index)\n",
    "            launcher_success['log_info'].append(log_data)"
   ]
  },
  {
   "cell_type": "markdown",
   "id": "88cc8ed5",
   "metadata": {},
   "source": [
    "# 各種データ集計、html化"
   ]
  },
  {
   "cell_type": "code",
   "execution_count": null,
   "id": "a2890c98",
   "metadata": {},
   "outputs": [],
   "source": [
    "success_df = pd.DataFrame(builder_success['log_info'])\n",
    "error_df = pd.DataFrame(builder_error['log_info'])\n",
    "user_df = pd.DataFrame(launcher_success['log_info'])\n",
    "\n",
    "# リポジトリ毎の起動成功したpod数\n",
    "tmp_df = success_df['url'].value_counts().to_frame()\n",
    "tmp_df = tmp_df.rename(columns={'url':'pods'})\n",
    "success_repo_thtml = tmp_df.to_html()\n",
    "\n",
    "# リポジトリ毎の起動失敗したpod数\n",
    "tmp_df = error_df['url'].value_counts().to_frame()\n",
    "tmp_df = tmp_df.rename(columns={'url':'pods'})\n",
    "error_repo_thtml = tmp_df.to_html()\n",
    "\n",
    "# ドメイン毎の起動成功したpod数\n",
    "tmp_df = user_df['domain'].value_counts().to_frame()\n",
    "tmp_df = tmp_df.rename(columns={'domain':'pods'})\n",
    "domain_thtml = tmp_df.to_html()\n",
    "\n",
    "content = template_html\n",
    "\n",
    "content = content.replace('@success_repo_thtml', success_repo_thtml)\n",
    "content = content.replace('@error_repo_thtml', error_repo_thtml)\n",
    "content = content.replace('@domain_thtml', domain_thtml)\n",
    "\n",
    "with open(os.path.join(work_dir, 'report.html'), 'w') as wf:\n",
    "    wf.write(content)"
   ]
  },
  {
   "cell_type": "code",
   "execution_count": null,
   "id": "6517fa34",
   "metadata": {},
   "outputs": [],
   "source": [
    "%matplotlib inline\n",
    "\n",
    "success_df['datetime'] = pd.to_datetime(success_df['datetime'])\n",
    "success_df.set_index(success_df['datetime'], inplace=True)\n",
    "days_pod_df = success_df.resample('1d').agg('size')\n",
    "ax = days_pod_df.plot()\n",
    "ax.set_xlabel('Day')\n",
    "ax.set_ylabel('Pods')\n",
    "ax.grid(color='b', linestyle=':', linewidth=0.3)\n",
    "ax.figure.savefig(os.path.join(work_dir, \"pods_per_day.png\"))"
   ]
  },
  {
   "cell_type": "code",
   "execution_count": null,
   "id": "5c59f686",
   "metadata": {},
   "outputs": [],
   "source": [
    "user_df['datetime'] = pd.to_datetime(user_df['datetime'])\n",
    "user_df.set_index('datetime', inplace=True)\n",
    "days_user_df = user_df.resample('1d').nunique()\n",
    "ax = days_user_df['mail_address'].plot()\n",
    "ax.set_xlabel('Day')\n",
    "ax.set_ylabel('Unique users')\n",
    "ax.grid(color='b', linestyle=':', linewidth=0.3)\n",
    "ax.figure.savefig(os.path.join(work_dir, \"users_per_day.png\"))"
   ]
  },
  {
   "cell_type": "code",
   "execution_count": null,
   "id": "0c292bb5",
   "metadata": {},
   "outputs": [],
   "source": [
    "from weasyprint import HTML\n",
    "\n",
    "!mkdir -p {OUTPUT_DIR}\n",
    "pdf_path = os.path.join(OUTPUT_DIR, f'{START_DATE:%Y%m%d}-{END_DATE:%Y%m%d}.pdf')\n",
    "HTML(os.path.join(work_dir, 'report.html')).write_pdf(pdf_path)"
   ]
  },
  {
   "cell_type": "code",
   "execution_count": null,
   "id": "56fa11cf",
   "metadata": {},
   "outputs": [],
   "source": [
    "from ipynb.fs.full.report import create_report, post_to_slack\n",
    "post_to_slack(pdf_path, f\"Monthly inder report on {date} is created!\")"
   ]
  },
  {
   "cell_type": "code",
   "execution_count": null,
   "id": "7f68c2b3",
   "metadata": {},
   "outputs": [],
   "source": []
  }
 ],
 "metadata": {
  "kernelspec": {
   "display_name": "Python 3",
   "language": "python",
   "name": "python3"
  },
  "language_info": {
   "file_extension": ".py",
   "mimetype": "text/x-python",
   "name": "python",
   "nbconvert_exporter": "python",
   "pygments_lexer": "ipython3"
  },
  "lc_notebook_meme": {
   "current": "40eebf94-c077-11ec-ac17-dd71e11e5616",
   "lc_server_signature": {
    "current": {
     "notebook_dir": "/home/jovyan",
     "notebook_path": "/work",
     "server_url": "https://jupyter.cs.rcos.nii.ac.jp/services/schedulable-notebook/",
     "signature_id": "d50f5e12-c9ac-11ec-94aa-c6bc47c7b6e5"
    },
    "history": [
     {
      "notebook_dir": "/home/kimura/notebooks",
      "notebook_path": "/",
      "server_url": "https://34.146.49.126/user/kimura/",
      "signature_id": "7ca5f7da-1530-11ec-aeba-0242ac120002"
     },
     {
      "notebook_dir": "/home/matsumoto/notebooks",
      "notebook_path": "/",
      "server_url": "https://34.146.49.126/user/matsumoto/",
      "signature_id": "7ca5f7da-1530-11ec-aeba-0242ac120002"
     },
     {
      "notebook_dir": "/home/jovyan",
      "notebook_path": "/",
      "server_url": "https://jupyter.cs.rcos.nii.ac.jp/services/schedulable-notebook/",
      "signature_id": "d50f5e12-c9ac-11ec-94aa-c6bc47c7b6e5"
     }
    ]
   }
  },
  "toc": {
   "base_numbering": 1,
   "nav_menu": {},
   "number_sections": true,
   "sideBar": true,
   "skip_h1_title": false,
   "title_cell": "Table of Contents",
   "title_sidebar": "Contents",
   "toc_cell": false,
   "toc_position": {
    "height": "calc(100% - 180px)",
    "left": "10px",
    "top": "150px",
    "width": "218.6px"
   },
   "toc_section_display": true,
   "toc_window_display": false
  }
 },
 "nbformat": 4,
 "nbformat_minor": 5
}
