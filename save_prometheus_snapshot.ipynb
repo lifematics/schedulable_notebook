{
 "cells": [
  {
   "cell_type": "code",
   "execution_count": null,
   "metadata": {},
   "outputs": [],
   "source": [
    "import tempfile, shutil, os"
   ]
  },
  {
   "cell_type": "code",
   "execution_count": null,
   "metadata": {
    "scrolled": true
   },
   "outputs": [],
   "source": [
    "snapshot_path = os.environ.get('PROMETHEUS_SNAPSHOT_PATH', None)\n",
    "bucket_name = os.environ.get('GCS_BUCKET', None)\n",
    "prom_host = os.environ.get('PROMETHEUS_HOST', 'localhost')\n",
    "prom_port = os.environ.get('PROMETHEUS_PORT', 9090)"
   ]
  },
  {
   "cell_type": "code",
   "execution_count": null,
   "metadata": {},
   "outputs": [],
   "source": [
    "import http.client,datetime,os,requests, json"
   ]
  },
  {
   "cell_type": "code",
   "execution_count": null,
   "metadata": {},
   "outputs": [],
   "source": [
    "def create_snapshot(https, host, port):\n",
    "    conn = None\n",
    "    try:\n",
    "        if https:\n",
    "            conn = http.client.HTTPSConnection(host, port=port)\n",
    "        else:\n",
    "            conn = http.client.HTTPConnection(host, port=port)\n",
    "        conn.request( \"POST\", \"/api/v1/admin/tsdb/snapshot\")\n",
    "        response = conn.getresponse()\n",
    "    except e:\n",
    "        print(e)\n",
    "        return None\n",
    "    if response.status != 200:\n",
    "        print(f\"Request failed! Status code: {response.status}\")\n",
    "        return None\n",
    "    result = json.load(response)\n",
    "    if conn != None:\n",
    "        conn.close()\n",
    "    return result['data']['name']"
   ]
  },
  {
   "cell_type": "code",
   "execution_count": null,
   "metadata": {},
   "outputs": [],
   "source": [
    "snapshot_name = create_snapshot(False, prom_host, prom_port)"
   ]
  },
  {
   "cell_type": "code",
   "execution_count": null,
   "metadata": {},
   "outputs": [],
   "source": [
    "tempdir = tempfile.mkdtemp()"
   ]
  },
  {
   "cell_type": "code",
   "execution_count": null,
   "metadata": {},
   "outputs": [],
   "source": [
    "!scp -r {snapshot_path}/{snapshot_name} {tempdir}"
   ]
  },
  {
   "cell_type": "code",
   "execution_count": null,
   "metadata": {},
   "outputs": [],
   "source": [
    "!gsutil -m cp -r {tempdir}/{snapshot_name} gs://{bucket_name}/{snapshot_name}"
   ]
  },
  {
   "cell_type": "code",
   "execution_count": null,
   "metadata": {},
   "outputs": [],
   "source": [
    "shutil.rmtree(tempdir)"
   ]
  }
 ],
 "metadata": {
  "kernelspec": {
   "display_name": "Python 3",
   "language": "python",
   "name": "python3"
  },
  "language_info": {
   "codemirror_mode": {
    "name": "ipython",
    "version": 3
   },
   "file_extension": ".py",
   "mimetype": "text/x-python",
   "name": "python",
   "nbconvert_exporter": "python",
   "pygments_lexer": "ipython3",
   "version": "3.7.4"
  }
 },
 "nbformat": 4,
 "nbformat_minor": 4
}
