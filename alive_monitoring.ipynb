{
 "cells": [
  {
   "cell_type": "code",
   "execution_count": 1,
   "metadata": {},
   "outputs": [],
   "source": [
    "import http.client,datetime,os,requests, time\n",
    "from selenium import webdriver\n",
    "from selenium.webdriver.support.ui import WebDriverWait\n",
    "from selenium.webdriver.common.by import By\n",
    "from selenium.common.exceptions import TimeoutException\n",
    "from selenium.webdriver.support import expected_conditions"
   ]
  },
  {
   "cell_type": "code",
   "execution_count": 4,
   "metadata": {},
   "outputs": [
    {
     "data": {
      "text/plain": [
       "'t7Zqrag4IpuK'"
      ]
     },
     "execution_count": 4,
     "metadata": {},
     "output_type": "execute_result"
    }
   ],
   "source": [
    "target = {\n",
    "    \"https\": False,\n",
    "    \"host\": \"jupyter.cs.rcos.nii.ac.jp\",\n",
    "    \"keyword\": \"JupyterHub\",\n",
    "    \"port\": 80,\n",
    "    \"path\": \"hub/home\",\n",
    "    \"allowed_statuses\": [200, 301]\n",
    "}\n",
    "\n",
    "slack_url = os.environ.get('SLACK_API_URL', None)\n",
    "key_event_delay = 3\n",
    "response_timeout = 20\n",
    "idp_username = os.environ.get('OPENIDP_USERNAME', None)\n",
    "idp_password = os.environ.get('OPENIDP_PASSWORD', None)"
   ]
  },
  {
   "cell_type": "code",
   "execution_count": 5,
   "metadata": {},
   "outputs": [],
   "source": [
    "def check_liveness(host, path, keyword, port=80, https=False, allowed_statuses=[200]): # keyword is just a placeholder\n",
    "    print(host)\n",
    "    conn = None\n",
    "    result = \"\"\n",
    "    liveness = True\n",
    "    try:\n",
    "        if https:\n",
    "            conn = http.client.HTTPSConnection(host, port=port)\n",
    "        else:\n",
    "            conn = http.client.HTTPConnection(host, port=port)\n",
    "        conn.request( \"GET\", \"/\" + path )\n",
    "        response = conn.getresponse()\n",
    "    except:\n",
    "        error_detected = True\n",
    "        return (f\"{host}:{port}/{path} : failed to connect\", False)\n",
    "    if response.status not in allowed_statuses:\n",
    "        liveness = False\n",
    "    result = f\"{host}/{path} {response.status} : {response.reason}\"\n",
    "    if conn != None:\n",
    "        conn.close()\n",
    "    return (result, liveness)"
   ]
  },
  {
   "cell_type": "code",
   "execution_count": 6,
   "metadata": {},
   "outputs": [],
   "source": [
    "def wait_load(driver, element_id, timeout):\n",
    "    try:\n",
    "        return WebDriverWait(driver, timeout).until(expected_conditions.presence_of_element_located((By.CSS_SELECTOR, element_id)))\n",
    "    except TimeoutException:\n",
    "        raise Exception(f\"Timeout occured after waiting {element_id} for {timeout} seconds.\")"
   ]
  },
  {
   "cell_type": "code",
   "execution_count": 7,
   "metadata": {},
   "outputs": [],
   "source": [
    "def check_by_selenium(host, path, keyword, port=80, https=False, allowed_statuses=[]): # allowed_statuses is just a placeholder\n",
    "    alive = False\n",
    "    try:\n",
    "        driver = webdriver.Firefox()\n",
    "        location = f\"{host}:{port}/{path}\"\n",
    "        result = \"\"\n",
    "        if https:\n",
    "            driver.get(\"https://\" + location)\n",
    "        else:\n",
    "            driver.get(\"http://\" + location)\n",
    "        # login \n",
    "        wait_load(driver, \"#keytext\", response_timeout).send_keys(\"OpenIdP\")\n",
    "        time.sleep(key_event_delay)\n",
    "        driver.find_element_by_css_selector(\"input[type='submit']\").click()\n",
    "        wait_load(driver, \"input[name='j_username']\", response_timeout).send_keys(idp_username)\n",
    "        time.sleep(key_event_delay)\n",
    "        driver.find_element_by_css_selector(\"input[name='j_password']\").send_keys(idp_password)\n",
    "        time.sleep(key_event_delay)\n",
    "        driver.find_element_by_css_selector(\"button[type='submit']\").click()\n",
    "        \n",
    "        # This part is necessary on only the first login \n",
    "        try:\n",
    "            wait_load(driver, \"input[type='submit'][name='_eventId_proceed']\", response_timeout).click()\n",
    "        except:\n",
    "            pass\n",
    "        \n",
    "        time.sleep(response_timeout) # long delay to get page title\n",
    "        if not keyword in driver.title:\n",
    "            result = f\"{host}:{port}/{path} : {keyword} is not included in page title! ({driver.title})\"\n",
    "        alive = True\n",
    "    except Exception as e:\n",
    "        result = f\"An exception occured on {host}:{port}/{path} : {e}\"\n",
    "    finally:\n",
    "        driver.close()\n",
    "    return result, alive"
   ]
  },
  {
   "cell_type": "code",
   "execution_count": 8,
   "metadata": {},
   "outputs": [
    {
     "name": "stdout",
     "output_type": "stream",
     "text": [
      "jupyter.cs.rcos.nii.ac.jp\n"
     ]
    }
   ],
   "source": [
    "(message, alive) = check_liveness(**target)\n",
    "if alive:\n",
    "    (message, alive) = check_by_selenium(**target)\n",
    "\n",
    "if not alive:\n",
    "    now = datetime.datetime.now()\n",
    "    message = str(now) + \"\\n\" + message\n",
    "    data = {'text': message}\n",
    "    x = requests.post(slack_url, json=data)"
   ]
  },
  {
   "cell_type": "code",
   "execution_count": null,
   "metadata": {},
   "outputs": [],
   "source": []
  }
 ],
 "metadata": {
  "kernelspec": {
   "display_name": "Python 3",
   "language": "python",
   "name": "python3"
  },
  "language_info": {
   "codemirror_mode": {
    "name": "ipython",
    "version": 3
   },
   "file_extension": ".py",
   "mimetype": "text/x-python",
   "name": "python",
   "nbconvert_exporter": "python",
   "pygments_lexer": "ipython3",
   "version": "3.7.4"
  }
 },
 "nbformat": 4,
 "nbformat_minor": 4
}
